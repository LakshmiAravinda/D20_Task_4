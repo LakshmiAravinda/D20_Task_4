{
  "cells": [
    {
      "cell_type": "markdown",
      "metadata": {
        "id": "view-in-github",
        "colab_type": "text"
      },
      "source": [
        "<a href=\"https://colab.research.google.com/github/LakshmiAravinda/D20_Task_4/blob/main/Assessment2B.ipynb\" target=\"_parent\"><img src=\"https://colab.research.google.com/assets/colab-badge.svg\" alt=\"Open In Colab\"/></a>"
      ]
    },
    {
      "cell_type": "markdown",
      "metadata": {
        "id": "4iXmosYhp3SC"
      },
      "source": [
        "###### Assessment"
      ]
    },
    {
      "cell_type": "markdown",
      "metadata": {
        "id": "_-cUlxIJp3SQ"
      },
      "source": [
        "###### I am going to provide two .csv files , you are supposed to work on them and have to provide solutions to the following problems"
      ]
    },
    {
      "cell_type": "markdown",
      "metadata": {
        "id": "5ZEabZSLp3ST"
      },
      "source": [
        "###### import necessary libraries"
      ]
    },
    {
      "cell_type": "code",
      "execution_count": 98,
      "metadata": {
        "id": "JwcRrVXWp3SV"
      },
      "outputs": [],
      "source": [
        "import pandas as pd\n",
        "import numpy as np\n",
        "import matplotlib.pyplot as plt\n",
        "import os"
      ]
    },
    {
      "cell_type": "markdown",
      "metadata": {
        "id": "CPVwp79Fp3SY"
      },
      "source": [
        "###### merge those two csv files (after getting as dataframes, get them as a single dataframe)"
      ]
    },
    {
      "cell_type": "code",
      "execution_count": null,
      "metadata": {
        "id": "Vr8LnxWfp3Sa"
      },
      "outputs": [],
      "source": [
        "import pandas as pd\n",
        "df = pd.concat(\n",
        "    map(pd.read_csv, ['/content/college_1.csv', '/content/college_2.csv']), ignore_index=True)\n",
        "print(df)"
      ]
    },
    {
      "cell_type": "markdown",
      "metadata": {
        "id": "UFlZxWPNp3Sc"
      },
      "source": [
        "###### Take each csv file , split that csv file into multiple categories (example csv files are added in the repo) \n"
      ]
    },
    {
      "cell_type": "markdown",
      "metadata": {
        "id": "BJFTLhrnp3Sf"
      },
      "source": [
        "###### consider if the codekata score exceeds 15000 points(present week) then make a csv on those observations as Exceeded expectations.csv\n"
      ]
    },
    {
      "cell_type": "markdown",
      "metadata": {
        "id": "hTnNNrJgp3Si"
      },
      "source": [
        "###### if  10000<codekata score<15000   (Reached_expectations.csv)\n",
        "\n"
      ]
    },
    {
      "cell_type": "markdown",
      "metadata": {
        "id": "uQr9CDoap3Sk"
      },
      "source": [
        "###### if  7000<codekata score<10000   (Needs_Improvement.csv)\n"
      ]
    },
    {
      "cell_type": "markdown",
      "metadata": {
        "id": "-P7RAJDRp3Sn"
      },
      "source": [
        "###### if  codekate score < 7000        (Unsatisfactory.csv)"
      ]
    },
    {
      "cell_type": "code",
      "execution_count": null,
      "metadata": {
        "id": "Rl5ELa-op3Sp"
      },
      "outputs": [],
      "source": [
        "import pandas as pd\n",
        "import numpy as np\n",
        "data = pd.read_csv(\"/content/college_1.csv\")\n",
        "k = 3\n",
        "size = 5\n",
        "codekata=data[\"CodeKata Score\"]\n",
        "for i in range(k):\n",
        "  if(codekata>10000 and codekata< 15000):\n",
        "    df3 = data[size*i:size*(i+1)]\n",
        "    df3.to_csv(f'Reached_expectations.csv', index=False)\n",
        "  if(codekata>7000 and codekata<10000):\n",
        "    df3 = data[size*i:size*(i+1)]\n",
        "    df3.to_csv(f'Needs_Improvement.csv', index=False)\n",
        "  if(codekata<7000):\n",
        "    df3 = data[size*i:size*(i+1)]\n",
        "    df3.to_csv(f'Unsatisfactory.csv', index=False)\n",
        " \n",
        "Reached_expectations= pd.read_csv(\"Reached_expectations.csv\")\n",
        "print(Reached_expectations)\n",
        " \n",
        "Needs_Improvement= pd.read_csv(\"Needs_Improvement.csv\")\n",
        "print(Needs_Improvement)\n",
        "\n",
        "Unsatisfactory= pd.read_csv(\"Unsatisfactory.csv\")\n",
        "print(Unsatisfactory)"
      ]
    },
    {
      "cell_type": "code",
      "execution_count": null,
      "metadata": {
        "id": "JMGKPBHgp3Sq"
      },
      "outputs": [],
      "source": [
        "import pandas as pd\n",
        "import numpy as np\n",
        "data = pd.read_csv(\"/content/college_1.csv\")\n",
        "codekata=data[\"CodeKata Score\"]\n",
        "for (codekata>10000 and codekata< 15000), group in data.groupby(['codekata']):\n",
        "  group.to_csv(f'{Reached_expectations}.csv', index=False)\n",
        "for (codekata>7000 and codekata<10000), group in data.groupby(['codekata']):\n",
        "  group.to_csv(f'{Needs_Improvement}.csv', index=False)\n",
        "for (codekata<7000), group in data.groupby(['codekata']):\n",
        "  group.to_csv(f'{Unsatisfactory}.csv', index=False)    \n",
        "print(pd.read_csv(\"Reached_expectations.csv\"))\n",
        "print(pd.read_csv(\"Needs_Improvement.csv\"))\n",
        "print(pd.read_csv(\"Unsatisfactory.csv\"))"
      ]
    },
    {
      "cell_type": "code",
      "source": [
        "import pandas as pd\n",
        "import numpy as np\n",
        "data = pd.read_csv(\"/content/college_1.csv\")\n",
        "codekata=data[\"CodeKata Score\"]\n",
        "if (codekata>10000 and codekata< 15000):\n",
        "  group.to_csv(f'{Reached_expectations}.csv', index=False)\n",
        "if (codekata>7000 and codekata<10000):\n",
        "  group.to_csv(f'{Needs_Improvement}.csv', index=False)\n",
        "if (codekata<7000):\n",
        "  group.to_csv(f'{Unsatisfactory}.csv', index=False)    \n",
        "print(pd.read_csv(\"Reached_expectations.csv\"))\n",
        "print(pd.read_csv(\"Needs_Improvement.csv\"))\n",
        "print(pd.read_csv(\"Unsatisfactory.csv\"))"
      ],
      "metadata": {
        "id": "dyAnPRwhUh8r"
      },
      "execution_count": null,
      "outputs": []
    },
    {
      "cell_type": "markdown",
      "metadata": {
        "id": "5-RIGiVEp3Sr"
      },
      "source": [
        "###### Average of previous week geekions vs this week geekions (i.e Previous Geekions vs CodeKata Score)"
      ]
    },
    {
      "cell_type": "code",
      "source": [
        "df[\"Previous Geekions\"].mean()\n",
        "df[\"CodeKata Score\"].mean()"
      ],
      "metadata": {
        "id": "_pDmXN31QySz"
      },
      "execution_count": null,
      "outputs": []
    },
    {
      "cell_type": "code",
      "source": [
        "import matplotlib.pyplot as plt\n",
        "import pandas as pd\n",
        "import plotly.express as px\n",
        "codekata=df[\"CodeKata Score\"]\n",
        "Geekions=df[\"Previous Geekions\"]\n",
        "fig=px.bar(codekata,Geekions)\n",
        "fig.show()"
      ],
      "metadata": {
        "id": "uELI4SzIQzlq"
      },
      "execution_count": null,
      "outputs": []
    },
    {
      "cell_type": "markdown",
      "metadata": {
        "id": "g1mjuMGfp3Su"
      },
      "source": [
        "###### No of students participated "
      ]
    },
    {
      "cell_type": "code",
      "execution_count": null,
      "metadata": {
        "id": "75veph1Wp3Sv",
        "colab": {
          "base_uri": "https://localhost:8080/"
        },
        "outputId": "207ffce7-39ec-4f44-95a3-dfb33235de7d"
      },
      "outputs": [
        {
          "output_type": "execute_result",
          "data": {
            "text/plain": [
              "Name                      119\n",
              "python                    119\n",
              "mysql                     119\n",
              "Previous Geekions         119\n",
              "CodeKata Score            119\n",
              "Department                119\n",
              "Rising                    119\n",
              "python_en                  35\n",
              "computational_thinking     35\n",
              "dtype: int64"
            ]
          },
          "metadata": {},
          "execution_count": 6
        }
      ],
      "source": [
        "df.count()"
      ]
    },
    {
      "cell_type": "markdown",
      "metadata": {
        "id": "UFd9pc4qp3Sw"
      },
      "source": [
        "###### #Average completion of python course or my_sql or python english or computational thinking"
      ]
    },
    {
      "cell_type": "code",
      "execution_count": null,
      "metadata": {
        "id": "iu_5h86fp3Sx"
      },
      "outputs": [],
      "source": [
        "import pandas as pd\n",
        "df = pd.read_csv(\"/content/college_1.csv\")\n",
        "df1 = pd.read_csv(\"/content/college_2.csv\")\n",
        "df.mean(axis=0)\n",
        "df1.mean(axis=0)"
      ]
    },
    {
      "cell_type": "markdown",
      "metadata": {
        "id": "5i2xTXBgp3Sy"
      },
      "source": [
        "###### rising star of the week (top 3 candidate who performed well in that particular week)"
      ]
    },
    {
      "cell_type": "code",
      "execution_count": null,
      "metadata": {
        "id": "9pN3Lq_wp3Sz"
      },
      "outputs": [],
      "source": [
        "import pandas as pd \n",
        "df.nlargest(3, ['Rising'])"
      ]
    },
    {
      "cell_type": "markdown",
      "metadata": {
        "id": "byziIUGFp3S0"
      },
      "source": [
        "###### Shining stars of the week (top 3 candidates who has highest geekions)"
      ]
    },
    {
      "cell_type": "code",
      "execution_count": null,
      "metadata": {
        "id": "s8NjbvgGp3S0"
      },
      "outputs": [],
      "source": [
        "import pandas as pd \n",
        "df.nlargest(3, ['Previous Geekions'])"
      ]
    },
    {
      "cell_type": "markdown",
      "metadata": {
        "id": "Gaay2ZGxp3S1"
      },
      "source": [
        "###### Department wise codekata performence (pie chart)"
      ]
    },
    {
      "cell_type": "code",
      "execution_count": null,
      "metadata": {
        "id": "H0zwYn13p3S2"
      },
      "outputs": [],
      "source": [
        "import matplotlib.pyplot as plt\n",
        "import pandas as pd\n",
        "department_data = df[\"Department\"]\n",
        "codekata_data = df[\"CodeKata Score\"]\n",
        "colors = [\"#1f77b4\", \"#ff7f0e\", \"#2ca02c\", \"#d62728\", \"#8c564b\"]\n",
        "explode = (0.1, 0, 0, 0, 0)  \n",
        "plt.pie(codekata_data, labels=department_data, colors=colors,autopct='%1.1f%%', shadow=True, startangle=140)\n",
        "plt.show()"
      ]
    },
    {
      "cell_type": "markdown",
      "metadata": {
        "id": "u2kjZjNyp3S3"
      },
      "source": [
        "###### Department wise toppers (horizantal bar graph or any visual representations of your choice)"
      ]
    },
    {
      "cell_type": "code",
      "execution_count": null,
      "metadata": {
        "id": "CLExtZBop3S4"
      },
      "outputs": [],
      "source": [
        "import matplotlib.pyplot as plt\n",
        "import pandas as pd\n",
        "import plotly.express as px\n",
        "department_data = df[\"Department\"]\n",
        "codekata_data = df[\"CodeKata Score\"]  \n",
        "fig=px.bar(codekata_data,department_data)\n",
        "fig.show()"
      ]
    },
    {
      "cell_type": "code",
      "execution_count": null,
      "metadata": {
        "id": "UC7BMKgHp3S5"
      },
      "outputs": [],
      "source": [
        "import matplotlib.pyplot as plt\n",
        "import pandas as pd\n",
        "department_data = df[\"Department\"]\n",
        "codekata_data = df[\"CodeKata Score\"] \n",
        "plt.bar(codekata_data,department_data)\n",
        "plt.show()"
      ]
    },
    {
      "cell_type": "code",
      "execution_count": null,
      "metadata": {
        "id": "Gi8Ju3P0p3S5"
      },
      "outputs": [],
      "source": [
        ""
      ]
    },
    {
      "cell_type": "code",
      "execution_count": null,
      "metadata": {
        "id": "30HZscYRp3S6"
      },
      "outputs": [],
      "source": [
        ""
      ]
    }
  ],
  "metadata": {
    "kernelspec": {
      "display_name": "Python 3",
      "language": "python",
      "name": "python3"
    },
    "language_info": {
      "codemirror_mode": {
        "name": "ipython",
        "version": 3
      },
      "file_extension": ".py",
      "mimetype": "text/x-python",
      "name": "python",
      "nbconvert_exporter": "python",
      "pygments_lexer": "ipython3",
      "version": "3.8.3"
    },
    "colab": {
      "name": "Assessment2B.ipynb",
      "provenance": [],
      "collapsed_sections": [],
      "include_colab_link": true
    }
  },
  "nbformat": 4,
  "nbformat_minor": 0
}